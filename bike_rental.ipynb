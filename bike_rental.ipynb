{
  "cells": [
    {
      "cell_type": "markdown",
      "source": [
        "# Project: Machine Learning with Spark\n",
        "# By: YASH ANAND (BT20CSE186)"
      ],
      "metadata": {
        "id": "XjERznIVfr12"
      }
    },
    {
      "cell_type": "markdown",
      "source": [
        "#### Introduction\n",
        "\n",
        "The objective of this project is to use different Spark and machine learning libraries to build a predictive model.\n",
        "\n",
        "The provided dataset comes from [UCI Machine Learning repository](https://archive.ics.uci.edu/ml/datasets/bike+sharing+dataset). It contains the hourly and daily count of rental bikes between years 2011 and 2012 in Capital bikeshare system with the corresponding weather and seasonal information.\n",
        "\n",
        "The task of this project is to predict hourly bike demand based on the provided features. Since the target variable is known, supervised learning is thus used.\n",
        "\n",
        "As the target is continuous, we will build several regression models, tune them and compare the results.\n",
        "\n",
        "We will proceed the project with the following steps:\n",
        "\n",
        "1. Load and preprocess the data\n",
        "2. Build a first linear regression model\n",
        "3. Tune linear regression model\n",
        "4. Result analysis\n",
        "5. Feature engineering\n",
        "6. Try other regression models"
      ],
      "metadata": {
        "id": "mAy_ZAP1fr18"
      }
    },
    {
      "cell_type": "markdown",
      "source": [
        "#### 1. Load and preprocess the data"
      ],
      "metadata": {
        "id": "5eNDoxE3fr1-"
      }
    },
    {
      "cell_type": "markdown",
      "source": [
        "The dataset is provided under csv format. The following code loads it by keeping the header and the original schema."
      ],
      "metadata": {
        "id": "iXUaFsKsfr1_"
      }
    },
    {
      "cell_type": "code",
      "source": [
        "#!pip install\n",
        "from pyspark.shell import spark\n",
        "data = spark.read.csv('Bike_Rental_UCI_dataset.csv', header=True, inferSchema=True)"
      ],
      "metadata": {
        "id": "Akj7wyy8fr2A"
      },
      "outputs": [],
      "execution_count": null
    },
    {
      "cell_type": "markdown",
      "source": [
        "Let's have a look at 5 first rows of the dataset."
      ],
      "metadata": {
        "id": "bfXE1gsnfr2E"
      }
    },
    {
      "cell_type": "code",
      "source": [
        "data.show(5)"
      ],
      "metadata": {
        "id": "a2fObJ0wfr2F",
        "outputId": "ff44a3da-9c04-4b9c-92c7-9912cd893d35",
        "colab": {
          "base_uri": "https://localhost:8080/"
        }
      },
      "outputs": [
        {
          "output_type": "stream",
          "name": "stdout",
          "text": [
            "+------+---+----+---+-------+----------+----------+----+----+---------+---------+----+------+\n",
            "|season| yr|mnth| hr|holiday|workingday|weathersit|temp| hum|windspeed|dayOfWeek|days|demand|\n",
            "+------+---+----+---+-------+----------+----------+----+----+---------+---------+----+------+\n",
            "|     1|  0|   1|  0|      0|         0|         1|0.24|0.81|      0.0|      Sat|   0|    16|\n",
            "|     1|  0|   1|  1|      0|         0|         1|0.22| 0.8|      0.0|      Sat|   0|    40|\n",
            "|     1|  0|   1|  2|      0|         0|         1|0.22| 0.8|      0.0|      Sat|   0|    32|\n",
            "|     1|  0|   1|  3|      0|         0|         1|0.24|0.75|      0.0|      Sat|   0|    13|\n",
            "|     1|  0|   1|  4|      0|         0|         1|0.24|0.75|      0.0|      Sat|   0|     1|\n",
            "+------+---+----+---+-------+----------+----------+----+----+---------+---------+----+------+\n",
            "only showing top 5 rows\n",
            "\n"
          ]
        }
      ],
      "execution_count": null
    },
    {
      "cell_type": "markdown",
      "source": [
        "According to [UCI Machine Learning repository](https://archive.ics.uci.edu/ml/datasets/bike+sharing+dataset), here is a short description of each feature in the dataset:\n",
        "\n",
        "- season : season (1: winter, 2: spring, 3: summer, 4: fall)\n",
        "- yr : year (0: 2011, 1: 2012)\n",
        "- mnth : month (1 to 12)\n",
        "- hr : hour (0 to 23)\n",
        "- holiday : whether day is holiday or not (extracted from [Web Link](https://dchr.dc.gov/page/holiday-schedules))\n",
        "- workingday : if day is neither weekend nor holiday is 1, otherwise is 0.\n",
        "- weathersit :\n",
        "  - 1: Clear, Few clouds, Partly cloudy, Partly cloudy\n",
        "  - 2: Mist + Cloudy, Mist + Broken clouds, Mist + Few clouds, Mist\n",
        "  - 3: Light Snow, Light Rain + Thunderstorm + Scattered clouds, Light Rain + Scattered clouds\n",
        "  - 4: Heavy Rain + Ice Pallets + Thunderstorm + Mist, Snow + Fog\n",
        "- temp : Normalized temperature in Celsius. The values are derived via (t-t_min)/(t_max-t_min), t_min=-8, t_max=+39 (only in hourly scale)\n",
        "- hum: Normalized humidity. The values are divided to 100 (max)\n",
        "- windspeed: Normalized wind speed. The values are divided to 67 (max)\n",
        "- dayOfWeek: day of the week\n",
        "- demand: count of total rental bikes (TARGET VARIABLE)"
      ],
      "metadata": {
        "id": "q4BUkNeRfr2F"
      }
    },
    {
      "cell_type": "code",
      "source": [
        "data.printSchema()"
      ],
      "metadata": {
        "id": "dtTdoLi1fr2G",
        "outputId": "244b30fa-bc15-4c7a-e93c-0d98944ce763",
        "colab": {
          "base_uri": "https://localhost:8080/"
        }
      },
      "outputs": [
        {
          "output_type": "stream",
          "name": "stdout",
          "text": [
            "root\n",
            " |-- season: integer (nullable = true)\n",
            " |-- yr: integer (nullable = true)\n",
            " |-- mnth: integer (nullable = true)\n",
            " |-- hr: integer (nullable = true)\n",
            " |-- holiday: integer (nullable = true)\n",
            " |-- workingday: integer (nullable = true)\n",
            " |-- weathersit: integer (nullable = true)\n",
            " |-- temp: double (nullable = true)\n",
            " |-- hum: double (nullable = true)\n",
            " |-- windspeed: double (nullable = true)\n",
            " |-- dayOfWeek: string (nullable = true)\n",
            " |-- days: integer (nullable = true)\n",
            " |-- demand: integer (nullable = true)\n",
            "\n"
          ]
        }
      ],
      "execution_count": null
    },
    {
      "cell_type": "markdown",
      "source": [
        "Almost all columns are of numerical values, except dayOfWeek. In order to get the data prepared for machine learning task, we need to encode days of week with numerical values.\n",
        "Let's check the different values in dayOfWeek column."
      ],
      "metadata": {
        "id": "GhVoYaGgfr2H"
      }
    },
    {
      "cell_type": "code",
      "source": [
        "data.select(\"dayOfWeek\").distinct().show()"
      ],
      "metadata": {
        "id": "ftOxPqZffr2H",
        "outputId": "4c9875e2-82d4-4904-e57a-2aa3585bf533",
        "colab": {
          "base_uri": "https://localhost:8080/"
        }
      },
      "outputs": [
        {
          "output_type": "stream",
          "name": "stdout",
          "text": [
            "+---------+\n",
            "|dayOfWeek|\n",
            "+---------+\n",
            "|      Sun|\n",
            "|      Mon|\n",
            "|      Sat|\n",
            "|      Wed|\n",
            "|      Tue|\n",
            "|      Fri|\n",
            "|      Thr|\n",
            "+---------+\n",
            "\n"
          ]
        }
      ],
      "execution_count": null
    },
    {
      "cell_type": "markdown",
      "source": [
        "Hereunder, we create a mapping dictionary to map each value in dayOfWeek column to a numerical value. Monday is encoded as 0, Tuesday is encoded as 1 and so on."
      ],
      "metadata": {
        "id": "asTQO3Vffr2I"
      }
    },
    {
      "cell_type": "code",
      "source": [
        "from itertools import chain\n",
        "from pyspark.sql.functions import create_map, lit\n",
        "mapping = {'Mon': 0,\n",
        "           'Tue': 1,\n",
        "           'Wed': 2,\n",
        "           'Thr': 3,\n",
        "           'Fri': 4,\n",
        "           'Sat': 5,\n",
        "           'Sun': 6}\n",
        "\n",
        "mapping_expr = create_map([lit(x) for x in chain(*mapping.items())])\n",
        "\n",
        "data = data.withColumn('day_cat', mapping_expr[data['dayOfWeek']])"
      ],
      "metadata": {
        "id": "ZQldQGLLfr2I"
      },
      "outputs": [],
      "execution_count": null
    },
    {
      "cell_type": "markdown",
      "source": [
        "Let's have a look at the data after encoding dayOfWeek."
      ],
      "metadata": {
        "id": "acOYdCBufr2I"
      }
    },
    {
      "cell_type": "code",
      "source": [
        "data.show(5)"
      ],
      "metadata": {
        "id": "8MYVkc6Efr2J",
        "outputId": "486699d7-bb16-4afd-eb86-fd784125c8dd",
        "colab": {
          "base_uri": "https://localhost:8080/"
        }
      },
      "outputs": [
        {
          "output_type": "stream",
          "name": "stdout",
          "text": [
            "+------+---+----+---+-------+----------+----------+----+----+---------+---------+----+------+-------+\n",
            "|season| yr|mnth| hr|holiday|workingday|weathersit|temp| hum|windspeed|dayOfWeek|days|demand|day_cat|\n",
            "+------+---+----+---+-------+----------+----------+----+----+---------+---------+----+------+-------+\n",
            "|     1|  0|   1|  0|      0|         0|         1|0.24|0.81|      0.0|      Sat|   0|    16|      5|\n",
            "|     1|  0|   1|  1|      0|         0|         1|0.22| 0.8|      0.0|      Sat|   0|    40|      5|\n",
            "|     1|  0|   1|  2|      0|         0|         1|0.22| 0.8|      0.0|      Sat|   0|    32|      5|\n",
            "|     1|  0|   1|  3|      0|         0|         1|0.24|0.75|      0.0|      Sat|   0|    13|      5|\n",
            "|     1|  0|   1|  4|      0|         0|         1|0.24|0.75|      0.0|      Sat|   0|     1|      5|\n",
            "+------+---+----+---+-------+----------+----------+----+----+---------+---------+----+------+-------+\n",
            "only showing top 5 rows\n",
            "\n"
          ]
        }
      ],
      "execution_count": null
    },
    {
      "cell_type": "markdown",
      "source": [
        "In order to train machine learning models, we need a transformer that combines a list of columns into a single vector column. For this purpose, we use VectorAssembler, that takes all the features (except dayOfWeek) as input and outputs a new column named \"features\"."
      ],
      "metadata": {
        "id": "eVvh1vNBfr2J"
      }
    },
    {
      "cell_type": "code",
      "source": [
        "from pyspark.ml.feature import VectorAssembler, VectorIndexer"
      ],
      "metadata": {
        "id": "mZE0xD4kfr2J"
      },
      "outputs": [],
      "execution_count": null
    },
    {
      "cell_type": "code",
      "source": [
        "# create a feature vector\n",
        "vectorAssembler = VectorAssembler(\n",
        "  inputCols= [\n",
        "    'season',\n",
        "    'yr',\n",
        "    'mnth',\n",
        "    'hr',\n",
        "    'holiday',\n",
        "    'workingday',\n",
        "    'weathersit',\n",
        "    'temp',\n",
        "    'hum',\n",
        "    'windspeed',\n",
        "    'days',\n",
        "    'day_cat'\n",
        "    ],\n",
        "   outputCol = 'features'\n",
        " )\n",
        "\n",
        "output = vectorAssembler.transform(data)"
      ],
      "metadata": {
        "id": "PfOMs9Tlfr2K"
      },
      "outputs": [],
      "execution_count": null
    },
    {
      "cell_type": "markdown",
      "source": [
        "Have a look at the features and target after applying VectorAssembler."
      ],
      "metadata": {
        "id": "zFdOWmfBfr2M"
      }
    },
    {
      "cell_type": "code",
      "source": [
        "output.select(\"features\", \"demand\").show(10, truncate=False)"
      ],
      "metadata": {
        "id": "VG3Mj64gfr2N",
        "outputId": "5790f2ca-1b37-4b12-b9cb-53fceda3689f",
        "colab": {
          "base_uri": "https://localhost:8080/"
        }
      },
      "outputs": [
        {
          "output_type": "stream",
          "name": "stdout",
          "text": [
            "+------------------------------------------------------+------+\n",
            "|features                                              |demand|\n",
            "+------------------------------------------------------+------+\n",
            "|(12,[0,2,6,7,8,11],[1.0,1.0,1.0,0.24,0.81,5.0])       |16    |\n",
            "|[1.0,0.0,1.0,1.0,0.0,0.0,1.0,0.22,0.8,0.0,0.0,5.0]    |40    |\n",
            "|[1.0,0.0,1.0,2.0,0.0,0.0,1.0,0.22,0.8,0.0,0.0,5.0]    |32    |\n",
            "|[1.0,0.0,1.0,3.0,0.0,0.0,1.0,0.24,0.75,0.0,0.0,5.0]   |13    |\n",
            "|[1.0,0.0,1.0,4.0,0.0,0.0,1.0,0.24,0.75,0.0,0.0,5.0]   |1     |\n",
            "|[1.0,0.0,1.0,5.0,0.0,0.0,2.0,0.24,0.75,0.0896,0.0,5.0]|1     |\n",
            "|[1.0,0.0,1.0,6.0,0.0,0.0,1.0,0.22,0.8,0.0,0.0,5.0]    |2     |\n",
            "|[1.0,0.0,1.0,7.0,0.0,0.0,1.0,0.2,0.86,0.0,0.0,5.0]    |3     |\n",
            "|[1.0,0.0,1.0,8.0,0.0,0.0,1.0,0.24,0.75,0.0,0.0,5.0]   |8     |\n",
            "|[1.0,0.0,1.0,9.0,0.0,0.0,1.0,0.32,0.76,0.0,0.0,5.0]   |14    |\n",
            "+------------------------------------------------------+------+\n",
            "only showing top 10 rows\n",
            "\n"
          ]
        }
      ],
      "execution_count": null
    },
    {
      "cell_type": "markdown",
      "source": [
        "We split data into train and test set."
      ],
      "metadata": {
        "id": "AmbH1UY-fr2O"
      }
    },
    {
      "cell_type": "code",
      "source": [
        "train, test = output.randomSplit([0.8, 0.2])\n",
        "print (\"We have %d training examples and %d test examples.\" % (train.count(), test.count()))"
      ],
      "metadata": {
        "id": "iR2Se8ddfr2O",
        "outputId": "67442ac6-d006-474a-a91c-9c742a7d49c2",
        "colab": {
          "base_uri": "https://localhost:8080/"
        }
      },
      "outputs": [
        {
          "output_type": "stream",
          "name": "stdout",
          "text": [
            "We have 14018 training examples and 3361 test examples.\n"
          ]
        }
      ],
      "execution_count": null
    },
    {
      "cell_type": "code",
      "source": [
        "train.cache()\n",
        "test.cache()"
      ],
      "metadata": {
        "id": "f6Bv9qhKfr2P",
        "outputId": "b438affd-6ff4-4b92-b8d0-99206c9a756a",
        "colab": {
          "base_uri": "https://localhost:8080/"
        }
      },
      "outputs": [
        {
          "output_type": "execute_result",
          "data": {
            "text/plain": [
              "DataFrame[season: int, yr: int, mnth: int, hr: int, holiday: int, workingday: int, weathersit: int, temp: double, hum: double, windspeed: double, dayOfWeek: string, days: int, demand: int, day_cat: int, features: vector]"
            ]
          },
          "metadata": {},
          "execution_count": 11
        }
      ],
      "execution_count": null
    },
    {
      "cell_type": "markdown",
      "source": [
        "#### 2. Build a first linear regression model"
      ],
      "metadata": {
        "id": "qjdQq4TVfr2P"
      }
    },
    {
      "cell_type": "markdown",
      "source": [
        "In this section, we build a first linear regression model with some pre-defined hyperparameters. After fitting the model into training set, we will display the evaluation metrics (Mean Absolute Error and R2) on training set and on test set."
      ],
      "metadata": {
        "id": "4cbBzuB-fr2Q"
      }
    },
    {
      "cell_type": "code",
      "source": [
        "# import Linear Regression module\n",
        "from pyspark.ml.regression import LinearRegression"
      ],
      "metadata": {
        "id": "KxgtuPixfr2R"
      },
      "outputs": [],
      "execution_count": null
    },
    {
      "cell_type": "code",
      "source": [
        "# initialize Linear Regression model with some hyperparameters\n",
        "#A value of 0 corresponds to L2 regularization (ridge regression), while a value of 1 corresponds to L1 regularization (lasso regression).\n",
        "lr = LinearRegression(maxIter=100, elasticNetParam=0.3, featuresCol=\"features\", labelCol=\"demand\")"
      ],
      "metadata": {
        "id": "3JchEpE3fr2R"
      },
      "outputs": [],
      "execution_count": null
    },
    {
      "cell_type": "code",
      "source": [
        "# fit to training set\n",
        "lrm = lr.fit(train)"
      ],
      "metadata": {
        "id": "m8yHNtubfr2S"
      },
      "outputs": [],
      "execution_count": null
    },
    {
      "cell_type": "code",
      "source": [
        "# print out MAE and R2 on train data\n",
        "trainingSummary = lrm.summary\n",
        "print(\"Mean Absolute Error (MAE) on train data = %f\" % trainingSummary.meanAbsoluteError)\n",
        "print(\"R Squared (R2) on train data = %f\" % trainingSummary.r2)"
      ],
      "metadata": {
        "id": "FAJz5IwAfr2T",
        "outputId": "72514005-f4b5-422a-df9c-b60763dc3fb2",
        "colab": {
          "base_uri": "https://localhost:8080/"
        }
      },
      "outputs": [
        {
          "output_type": "stream",
          "name": "stdout",
          "text": [
            "Mean Absolute Error (MAE) on train data = 106.057872\n",
            "R Squared (R2) on train data = 0.388387\n"
          ]
        }
      ],
      "execution_count": null
    },
    {
      "cell_type": "markdown",
      "source": [
        "MAE measures the absolute differences between predicted values by the model and the actual values. However, MAE alone is meaningless until we compare with the actual “demand” value, such as mean and standard deviation."
      ],
      "metadata": {
        "id": "9ZpUXaoofr2U"
      }
    },
    {
      "cell_type": "code",
      "source": [
        "train.select(\"demand\").describe().show()"
      ],
      "metadata": {
        "id": "9J-tVx4sfr2U",
        "outputId": "60de61a7-908c-4a24-d564-c2b00573b4b8",
        "colab": {
          "base_uri": "https://localhost:8080/"
        }
      },
      "outputs": [
        {
          "output_type": "stream",
          "name": "stdout",
          "text": [
            "+-------+------------------+\n",
            "|summary|            demand|\n",
            "+-------+------------------+\n",
            "|  count|             14018|\n",
            "|   mean|189.62077329148238|\n",
            "| stddev|181.17341836384028|\n",
            "|    min|                 1|\n",
            "|    max|               977|\n",
            "+-------+------------------+\n",
            "\n"
          ]
        }
      ],
      "execution_count": null
    },
    {
      "cell_type": "markdown",
      "source": [
        "It can be seen that the demand in training set has a mean of 188.9 and a standard deviation of 180.3. While our Mean Absolute Error is 105.7 which is lower than standard deviation. This is a not bad result.\n",
        "\n",
        "However, R2 square is 0.387. This metric indicates that in our model, approximate 38.7% of the variability in “demand” can be explained using the model. This is an average result and there is still room for improvement.\n",
        "\n",
        "Next, we will make predictions on the test data and print out MAE and R2."
      ],
      "metadata": {
        "id": "AhIC-r_Ofr2V"
      }
    },
    {
      "cell_type": "code",
      "source": [
        "# make predictions on test data\n",
        "lr_preds = lrm.transform(test)\n",
        "\n",
        "lr_preds.select(\"prediction\", \"demand\", \"features\").show(5)\n",
        "\n",
        "from pyspark.ml.evaluation import RegressionEvaluator\n",
        "\n",
        "lr_evaluator = RegressionEvaluator(predictionCol=\"prediction\",\\\n",
        "                                   labelCol=\"demand\")\n",
        "\n",
        "# print out MAE and R2 on test data\n",
        "print(\"Mean Absolute Error (MAE) on test data = %g\" % lr_evaluator.evaluate(lr_preds, {lr_evaluator.metricName: \"mae\"}))\n",
        "print(\"R Squared (R2) on test data = %g\" % lr_evaluator.evaluate(lr_preds, {lr_evaluator.metricName: \"r2\"}))"
      ],
      "metadata": {
        "id": "1eV5tL9sfr2V",
        "outputId": "176fd444-a3e8-4ac5-f121-f52a06b1b06e",
        "colab": {
          "base_uri": "https://localhost:8080/"
        }
      },
      "outputs": [
        {
          "output_type": "stream",
          "name": "stdout",
          "text": [
            "+-------------------+------+--------------------+\n",
            "|         prediction|demand|            features|\n",
            "+-------------------+------+--------------------+\n",
            "|-47.762357046179204|    28|[1.0,0.0,1.0,0.0,...|\n",
            "|  -47.6395702968296|     7|[1.0,0.0,1.0,0.0,...|\n",
            "| -42.15165315140863|    11|[1.0,0.0,1.0,0.0,...|\n",
            "|-113.70460952384045|     7|[1.0,0.0,1.0,0.0,...|\n",
            "|   -79.698988964795|     9|[1.0,0.0,1.0,0.0,...|\n",
            "+-------------------+------+--------------------+\n",
            "only showing top 5 rows\n",
            "\n",
            "Mean Absolute Error (MAE) on test data = 106.038\n",
            "R Squared (R2) on test data = 0.382984\n"
          ]
        }
      ],
      "execution_count": null
    },
    {
      "cell_type": "markdown",
      "source": [
        "While R2 is approximately same as on training set, MAE is a bit worse.\n",
        "\n",
        "In next section, we will tune this Linear Regression model by doing cross validation."
      ],
      "metadata": {
        "id": "tnr4DCxWfr2V"
      }
    },
    {
      "cell_type": "markdown",
      "source": [
        "#### 3. Tune linear regression model"
      ],
      "metadata": {
        "id": "VcokM63sfr2X"
      }
    },
    {
      "cell_type": "markdown",
      "source": [
        "In this section, we tune the linear regression using cross-validation. We will build a pipeline and search for best parameters in a parameter grid."
      ],
      "metadata": {
        "id": "CUIKgKAffr2X"
      }
    },
    {
      "cell_type": "code",
      "source": [
        "from pyspark.ml import Pipeline\n",
        "from pyspark.ml.tuning import CrossValidator, ParamGridBuilder"
      ],
      "metadata": {
        "id": "_q9IJkEnfr2Y"
      },
      "outputs": [],
      "execution_count": null
    },
    {
      "cell_type": "markdown",
      "source": [
        "We print out the parameters explanation in order to build parameter grid."
      ],
      "metadata": {
        "id": "77V_5SGBfr2Y"
      }
    },
    {
      "cell_type": "code",
      "source": [
        "lr.explainParams()"
      ],
      "metadata": {
        "id": "E1bgVyAmfr2Z",
        "outputId": "e5e96fc7-7047-4bf1-fb1c-d78d39b67356",
        "colab": {
          "base_uri": "https://localhost:8080/",
          "height": 127
        }
      },
      "outputs": [
        {
          "output_type": "execute_result",
          "data": {
            "text/plain": [
              "'aggregationDepth: suggested depth for treeAggregate (>= 2). (default: 2)\\nelasticNetParam: the ElasticNet mixing parameter, in range [0, 1]. For alpha = 0, the penalty is an L2 penalty. For alpha = 1, it is an L1 penalty. (default: 0.0, current: 0.3)\\nepsilon: The shape parameter to control the amount of robustness. Must be > 1.0. Only valid when loss is huber (default: 1.35)\\nfeaturesCol: features column name. (default: features, current: features)\\nfitIntercept: whether to fit an intercept term. (default: True)\\nlabelCol: label column name. (default: label, current: demand)\\nloss: The loss function to be optimized. Supported options: squaredError, huber. (default: squaredError)\\nmaxBlockSizeInMB: maximum memory in MB for stacking input data into blocks. Data is stacked within partitions. If more than remaining data size in a partition then it is adjusted to the data size. Default 0.0 represents choosing optimal value, depends on specific algorithm. Must be >= 0. (default: 0.0)\\nmaxIter: max number of iterations (>= 0). (default: 100, current: 100)\\npredictionCol: prediction column name. (default: prediction)\\nregParam: regularization parameter (>= 0). (default: 0.0)\\nsolver: The solver algorithm for optimization. Supported options: auto, normal, l-bfgs. (default: auto)\\nstandardization: whether to standardize the training features before fitting the model. (default: True)\\ntol: the convergence tolerance for iterative algorithms (>= 0). (default: 1e-06)\\nweightCol: weight column name. If this is not set or empty, we treat all instance weights as 1.0. (undefined)'"
            ],
            "application/vnd.google.colaboratory.intrinsic+json": {
              "type": "string"
            }
          },
          "metadata": {},
          "execution_count": 19
        }
      ],
      "execution_count": null
    },
    {
      "cell_type": "markdown",
      "source": [
        "We choose to tune:\n",
        "- number of iterations\n",
        "- regularization parameter\n",
        "- elastic net parameter\n",
        "- solver algorithm for optimization"
      ],
      "metadata": {
        "id": "5bUihZ1Yfr2Z"
      }
    },
    {
      "cell_type": "code",
      "source": [
        "pipeLine = Pipeline()\n",
        "pipeLine.setStages([lr])\n",
        "\n",
        "gridBuilder = ParamGridBuilder().addGrid(lr.maxIter, [10, 50, 100, 150, 200])\\\n",
        "                                .addGrid(lr.regParam, [0, 10, 100, 1000])\\\n",
        "                                .addGrid(lr.elasticNetParam, [0, 0.1, 0.3, 0.7, 1.0])\\\n",
        "                                .addGrid(lr.solver, [\"auto\", \"normal\", \"l-bfgs\"])\\\n",
        "                                .build()\n",
        "\n",
        "cv = CrossValidator(estimator = lr,\n",
        "                    estimatorParamMaps = gridBuilder,\n",
        "                    evaluator = lr_evaluator)"
      ],
      "metadata": {
        "id": "n-pwjqr4fr2a"
      },
      "outputs": [],
      "execution_count": null
    },
    {
      "cell_type": "code",
      "source": [
        "cvm = cv.fit(train)"
      ],
      "metadata": {
        "id": "jZafkJtSfr2d"
      },
      "outputs": [],
      "execution_count": null
    },
    {
      "cell_type": "markdown",
      "source": [
        "After fitting the cross validation on training set, we print out the best model parameters."
      ],
      "metadata": {
        "id": "NkN3k6W4fr2e"
      }
    },
    {
      "cell_type": "code",
      "source": [
        "best_lr_model = cvm.bestModel\n",
        "best_lr_model.explainParams()"
      ],
      "metadata": {
        "id": "k4unojYffr2f",
        "outputId": "ebcb4337-ffd0-4810-9a3c-cd390633377b",
        "colab": {
          "base_uri": "https://localhost:8080/",
          "height": 127
        }
      },
      "outputs": [
        {
          "output_type": "execute_result",
          "data": {
            "text/plain": [
              "'aggregationDepth: suggested depth for treeAggregate (>= 2). (default: 2)\\nelasticNetParam: the ElasticNet mixing parameter, in range [0, 1]. For alpha = 0, the penalty is an L2 penalty. For alpha = 1, it is an L1 penalty. (default: 0.0, current: 0.0)\\nepsilon: The shape parameter to control the amount of robustness. Must be > 1.0. Only valid when loss is huber (default: 1.35)\\nfeaturesCol: features column name. (default: features, current: features)\\nfitIntercept: whether to fit an intercept term. (default: True)\\nlabelCol: label column name. (default: label, current: demand)\\nloss: The loss function to be optimized. Supported options: squaredError, huber. (default: squaredError)\\nmaxBlockSizeInMB: maximum memory in MB for stacking input data into blocks. Data is stacked within partitions. If more than remaining data size in a partition then it is adjusted to the data size. Default 0.0 represents choosing optimal value, depends on specific algorithm. Must be >= 0. (default: 0.0)\\nmaxIter: max number of iterations (>= 0). (default: 100, current: 50)\\npredictionCol: prediction column name. (default: prediction)\\nregParam: regularization parameter (>= 0). (default: 0.0, current: 0.0)\\nsolver: The solver algorithm for optimization. Supported options: auto, normal, l-bfgs. (default: auto, current: l-bfgs)\\nstandardization: whether to standardize the training features before fitting the model. (default: True)\\ntol: the convergence tolerance for iterative algorithms (>= 0). (default: 1e-06)\\nweightCol: weight column name. If this is not set or empty, we treat all instance weights as 1.0. (undefined)'"
            ],
            "application/vnd.google.colaboratory.intrinsic+json": {
              "type": "string"
            }
          },
          "metadata": {},
          "execution_count": 22
        }
      ],
      "execution_count": null
    },
    {
      "cell_type": "markdown",
      "source": [
        "The best model has the following parameters:\n",
        "- number of iterations: 10\n",
        "- regularization parameter: 0.0\n",
        "- elastic net parameter: 0.0\n",
        "- solver algorithm for optimization: l-bfgs\n",
        "\n",
        "Next, we print out MAE and R2 score on training and test set."
      ],
      "metadata": {
        "id": "3WUj5TiNfr2g"
      }
    },
    {
      "cell_type": "code",
      "source": [
        "# print out MAE and R2 on train data\n",
        "best_lr_summary = best_lr_model.summary\n",
        "\n",
        "print(\"Mean Absolute Error (MAE) on train data = %f\" % best_lr_summary.meanAbsoluteError)\n",
        "print(\"R Squared (R2) on train data = %f\" % best_lr_summary.r2)"
      ],
      "metadata": {
        "id": "MmpygCi1fr2g",
        "outputId": "f87cdb7c-10f3-4f84-e897-ff518f051b62",
        "colab": {
          "base_uri": "https://localhost:8080/"
        }
      },
      "outputs": [
        {
          "output_type": "stream",
          "name": "stdout",
          "text": [
            "Mean Absolute Error (MAE) on train data = 106.057873\n",
            "R Squared (R2) on train data = 0.388387\n"
          ]
        }
      ],
      "execution_count": null
    },
    {
      "cell_type": "code",
      "source": [
        "# make predictions on test data\n",
        "best_lr_preds = best_lr_model.transform(test)\n",
        "\n",
        "best_lr_preds.select(\"prediction\", \"demand\", \"features\").show(5)\n",
        "\n",
        "# print out MAE and R2 on test data\n",
        "print(\"Mean Absolute Error (MAE) on test data = %g\" % lr_evaluator.evaluate(best_lr_preds, {lr_evaluator.metricName: \"mae\"}))\n",
        "print(\"R Squared (R2) on test data = %g\" % lr_evaluator.evaluate(best_lr_preds, {lr_evaluator.metricName: \"r2\"}))"
      ],
      "metadata": {
        "id": "WzlwgoGefr2h",
        "outputId": "9805925b-5aed-4120-8926-202f8c6ffb10",
        "colab": {
          "base_uri": "https://localhost:8080/"
        }
      },
      "outputs": [
        {
          "output_type": "stream",
          "name": "stdout",
          "text": [
            "+-------------------+------+--------------------+\n",
            "|         prediction|demand|            features|\n",
            "+-------------------+------+--------------------+\n",
            "|-47.762354321750365|    28|[1.0,0.0,1.0,0.0,...|\n",
            "|-47.639536155350285|     7|[1.0,0.0,1.0,0.0,...|\n",
            "| -42.15166089602713|    11|[1.0,0.0,1.0,0.0,...|\n",
            "|-113.70461478807505|     7|[1.0,0.0,1.0,0.0,...|\n",
            "| -79.69894391182399|     9|[1.0,0.0,1.0,0.0,...|\n",
            "+-------------------+------+--------------------+\n",
            "only showing top 5 rows\n",
            "\n",
            "Mean Absolute Error (MAE) on test data = 106.038\n",
            "R Squared (R2) on test data = 0.382984\n"
          ]
        }
      ],
      "execution_count": null
    },
    {
      "cell_type": "markdown",
      "source": [
        "It can be seen that MAE and R2 score on test set are slighly compared to the model built in previous section."
      ],
      "metadata": {
        "id": "-Z8lf9ihfr2i"
      }
    },
    {
      "cell_type": "markdown",
      "source": [
        "#### 4. Result analysis"
      ],
      "metadata": {
        "id": "AgpS69cUfr2i"
      }
    },
    {
      "cell_type": "markdown",
      "source": [
        "In this section, we will compare true demand with model prediction to understand where the model performs well and where it performs badly.\n",
        "\n",
        "We will be using best_lr_preds dataframe from previous section, which contains prediction made by best Linear Regression model after cross validation.\n",
        "\n",
        "Let's display 5 first rows of best_lr_preds to see how it looks like."
      ],
      "metadata": {
        "id": "zs56OdcOfr2j"
      }
    },
    {
      "cell_type": "code",
      "source": [
        "best_lr_preds.show(5)"
      ],
      "metadata": {
        "id": "HxemHeOwfr2j",
        "outputId": "8ba8a867-5898-43a7-f872-d723ed1e33ad",
        "colab": {
          "base_uri": "https://localhost:8080/"
        }
      },
      "outputs": [
        {
          "output_type": "stream",
          "name": "stdout",
          "text": [
            "+------+---+----+---+-------+----------+----------+----+----+-------------------+---------+----+------+-------+--------------------+-------------------+\n",
            "|season| yr|mnth| hr|holiday|workingday|weathersit|temp| hum|          windspeed|dayOfWeek|days|demand|day_cat|            features|         prediction|\n",
            "+------+---+----+---+-------+----------+----------+----+----+-------------------+---------+----+------+-------+--------------------+-------------------+\n",
            "|     1|  0|   1|  0|      0|         0|         1|0.18|0.55|                0.0|      Sat|  13|    28|      5|[1.0,0.0,1.0,0.0,...|-47.762354321750365|\n",
            "|     1|  0|   1|  0|      0|         1|         1|0.06|0.41|0.19399999999999998|      Mon|  21|     7|      0|[1.0,0.0,1.0,0.0,...|-47.639536155350285|\n",
            "|     1|  0|   1|  0|      0|         1|         1|0.18|0.55|                0.0|      Thr|   4|    11|      3|[1.0,0.0,1.0,0.0,...| -42.15166089602713|\n",
            "|     1|  0|   1|  0|      0|         1|         2|0.16|0.86|             0.0896|      Wed|  10|     7|      2|[1.0,0.0,1.0,0.0,...|-113.70461478807505|\n",
            "|     1|  0|   1|  0|      0|         1|         2| 0.2|0.75|             0.1343|      Fri|  24|     9|      4|[1.0,0.0,1.0,0.0,...| -79.69894391182399|\n",
            "+------+---+----+---+-------+----------+----------+----+----+-------------------+---------+----+------+-------+--------------------+-------------------+\n",
            "only showing top 5 rows\n",
            "\n"
          ]
        }
      ],
      "execution_count": null
    },
    {
      "cell_type": "markdown",
      "source": [
        "In order to understand where the linear regression model performs well or badly, we will group by the average and standard deviation of real demand and prediction by hour, season and month. To visualize the gap easily, we will prioritize charts over tables."
      ],
      "metadata": {
        "id": "eFXbkBwtfr2j"
      }
    },
    {
      "cell_type": "code",
      "source": [
        "import pyspark.sql.functions as F"
      ],
      "metadata": {
        "id": "S_DyFnK5fr2j"
      },
      "outputs": [],
      "execution_count": null
    },
    {
      "cell_type": "markdown",
      "source": [
        "Average and standard deviation of real demand and prediction by **hour**:"
      ],
      "metadata": {
        "id": "uMqoB02pfr2j"
      }
    },
    {
      "cell_type": "code",
      "source": [
        "# average demand and average prediction by hour\n",
        "ax = best_lr_preds.groupBy('hr')\\\n",
        "             .agg(F.avg('demand'), F.avg('prediction'))\\\n",
        "             .orderBy('hr', ascending=True)\\\n",
        "             .toPandas()\\\n",
        "             .plot.line(x=\"hr\", y=[\"avg(demand)\", \"avg(prediction)\"])\n",
        "ax.set_ylabel('Demand and Prediction')"
      ],
      "metadata": {
        "id": "xoy5SxmKfr2k",
        "colab": {
          "base_uri": "https://localhost:8080/",
          "height": 467
        },
        "outputId": "26a92677-8fd6-46e2-e2ad-e046832507c9"
      },
      "outputs": [
        {
          "output_type": "execute_result",
          "data": {
            "text/plain": [
              "Text(0, 0.5, 'Demand and Prediction')"
            ]
          },
          "metadata": {},
          "execution_count": 51
        },
        {
          "output_type": "display_data",
          "data": {
            "text/plain": [
              "<Figure size 640x480 with 1 Axes>"
            ],
            "image/png": "[encoded data removed]"
          },
          "metadata": {}
        }
      ],
      "execution_count": null
    },
    {
      "cell_type": "code",
      "source": [
        "# standard deviation of demand and prediction by hour\n",
        "import matplotlib.pyplot as plt\n",
        "ax = best_lr_preds.groupBy('hr')\\\n",
        "             .agg(F.stddev('demand'), F.stddev('prediction'))\\\n",
        "             .orderBy('hr', ascending=True)\\\n",
        "             .toPandas()\\\n",
        "             .plot.line(x=\"hr\", y=[\"stddev_samp(demand)\", \"stddev_samp(prediction)\"])\n",
        "ax.set_ylabel('Demand and Prediction')\n"
      ],
      "metadata": {
        "id": "M0rZimj_fr2k",
        "colab": {
          "base_uri": "https://localhost:8080/",
          "height": 467
        },
        "outputId": "84421a07-7f69-4a3a-c200-161d27eadc09"
      },
      "outputs": [
        {
          "output_type": "execute_result",
          "data": {
            "text/plain": [
              "Text(0, 0.5, 'Demand and Prediction')"
            ]
          },
          "metadata": {},
          "execution_count": 46
        },
        {
          "output_type": "display_data",
          "data": {
            "text/plain": [
              "<Figure size 640x480 with 1 Axes>"
            ],
            "image/png": "[encoded data removed]"
          },
          "metadata": {}
        }
      ],
      "execution_count": null
    },
    {
      "cell_type": "markdown",
      "source": [
        "Linear regression model is not able to capture the demand pattern: average and standard deviation of prediction are pretty far from those of real demand. Especially on rush hours, when both average and standard deviation of real demand are at the peak, the model fails to make a decent prediction."
      ],
      "metadata": {
        "id": "Qqnq7fVffr2k"
      }
    },
    {
      "cell_type": "markdown",
      "source": [
        "Average and standard deviation of real demand and prediction by **season**:"
      ],
      "metadata": {
        "id": "46fYC1Kpfr2k"
      }
    },
    {
      "cell_type": "code",
      "source": [
        "# average demand and average prediction by season\n",
        "ax = best_lr_preds.groupBy('season')\\\n",
        "             .agg(F.avg('demand'), F.avg('prediction'))\\\n",
        "             .orderBy('season', ascending=True)\\\n",
        "             .toPandas()\\\n",
        "             .plot.bar(x=\"season\", y=[\"avg(demand)\", \"avg(prediction)\"])\n",
        "ax.set_ylabel('Demand and Prediction')"
      ],
      "metadata": {
        "id": "CGPGyLxKfr2k",
        "colab": {
          "base_uri": "https://localhost:8080/",
          "height": 462
        },
        "outputId": "923c226d-c316-4361-f17d-e2edad9f6419"
      },
      "outputs": [
        {
          "output_type": "execute_result",
          "data": {
            "text/plain": [
              "Text(0, 0.5, 'Demand and Prediction')"
            ]
          },
          "metadata": {},
          "execution_count": 47
        },
        {
          "output_type": "display_data",
          "data": {
            "text/plain": [
              "<Figure size 640x480 with 1 Axes>"
            ],
            "image/png": "[encoded data removed]"
          },
          "metadata": {}
        }
      ],
      "execution_count": null
    },
    {
      "cell_type": "code",
      "source": [
        "# standard deviation of demand and prediction by season\n",
        "ax = best_lr_preds.groupBy('season')\\\n",
        "             .agg(F.stddev('demand'), F.stddev('prediction'))\\\n",
        "             .orderBy('season', ascending=True)\\\n",
        "             .toPandas()\\\n",
        "             .plot.bar(x=\"season\", y=[\"stddev_samp(demand)\", \"stddev_samp(prediction)\"])\n",
        "ax.set_ylabel('Demand and Prediction')"
      ],
      "metadata": {
        "id": "3UhCg8Wcfr2k",
        "colab": {
          "base_uri": "https://localhost:8080/",
          "height": 462
        },
        "outputId": "3355ada5-1465-4ec1-fc8b-4fe3ae6a992a"
      },
      "outputs": [
        {
          "output_type": "execute_result",
          "data": {
            "text/plain": [
              "Text(0, 0.5, 'Demand and Prediction')"
            ]
          },
          "metadata": {},
          "execution_count": 48
        },
        {
          "output_type": "display_data",
          "data": {
            "text/plain": [
              "<Figure size 640x480 with 1 Axes>"
            ],
            "image/png": "[encoded data removed]"
          },
          "metadata": {}
        }
      ],
      "execution_count": null
    },
    {
      "cell_type": "markdown",
      "source": [
        "The model's average prediction per season is pretty near the average target value. This is also true with standard deviation in Spring (season 1).\n",
        "However, for remaining seasons, there is still room for improvement since standard deviation of real demand and that of prediction are far from each other."
      ],
      "metadata": {
        "id": "0jQT3t7qfr2l"
      }
    },
    {
      "cell_type": "markdown",
      "source": [
        "Average and standard deviation of real demand and prediction by **month**:"
      ],
      "metadata": {
        "id": "OQvSqxlqfr2l"
      }
    },
    {
      "cell_type": "code",
      "source": [
        "# average demand and average prediction by month\n",
        "ax = best_lr_preds.groupBy('mnth')\\\n",
        "             .agg(F.avg('demand'), F.avg('prediction'))\\\n",
        "             .orderBy('mnth', ascending=True)\\\n",
        "             .toPandas()\\\n",
        "             .plot.line(x=\"mnth\", y=[\"avg(demand)\", \"avg(prediction)\"])\n",
        "ax.set_ylabel('Demand and Prediction')"
      ],
      "metadata": {
        "id": "sFb3Y2Hvfr2l",
        "colab": {
          "base_uri": "https://localhost:8080/",
          "height": 467
        },
        "outputId": "1f844562-0d14-4df8-a49e-70d9230e498b"
      },
      "outputs": [
        {
          "output_type": "execute_result",
          "data": {
            "text/plain": [
              "Text(0, 0.5, 'Demand and Prediction')"
            ]
          },
          "metadata": {},
          "execution_count": 49
        },
        {
          "output_type": "display_data",
          "data": {
            "text/plain": [
              "<Figure size 640x480 with 1 Axes>"
            ],
            "image/png": "[encoded data removed]"
          },
          "metadata": {}
        }
      ],
      "execution_count": null
    },
    {
      "cell_type": "code",
      "source": [
        "# standard deviation of demand and prediction by month\n",
        "ax = best_lr_preds.groupBy('mnth')\\\n",
        "             .agg(F.stddev('demand'), F.stddev('prediction'))\\\n",
        "             .orderBy('mnth', ascending=True)\\\n",
        "             .toPandas()\\\n",
        "             .plot.line(x=\"mnth\", y=[\"stddev_samp(demand)\", \"stddev_samp(prediction)\"])\n",
        "ax.set_ylabel('Demand and Prediction')"
      ],
      "metadata": {
        "id": "FAj9ynpffr2l",
        "colab": {
          "base_uri": "https://localhost:8080/",
          "height": 467
        },
        "outputId": "6ce9bc31-7a10-46f5-daee-9e95cd70226a"
      },
      "outputs": [
        {
          "output_type": "execute_result",
          "data": {
            "text/plain": [
              "Text(0, 0.5, 'Demand and Prediction')"
            ]
          },
          "metadata": {},
          "execution_count": 50
        },
        {
          "output_type": "display_data",
          "data": {
            "text/plain": [
              "<Figure size 640x480 with 1 Axes>"
            ],
            "image/png": "[encoded data removed]"
          },
          "metadata": {}
        }
      ],
      "execution_count": null
    },
    {
      "cell_type": "markdown",
      "source": [
        "Same as season, the model captures pretty well monthly trend in average demand. In contrast, the model doesn't seem to understand the trend in standard deviation."
      ],
      "metadata": {
        "id": "Fpba42bVfr2m"
      }
    },
    {
      "cell_type": "markdown",
      "source": [
        "#### 5. Feature engineering"
      ],
      "metadata": {
        "id": "kAqMj-iOfr2m"
      }
    },
    {
      "cell_type": "markdown",
      "source": [
        "In previous sections, we built, trained and tuned linear regression model on the provided dataset, without taking care of categorical features.\n",
        "Indeed, we treated categorical features in same manner as numerical features. For example, season can have value 1, 2, 3 and 4 but this represent four different seasons thus should be taken as categorical features.\n",
        "\n",
        "In this section, we will create dummy variables from categorical features in order to improve the accuracy of the model. These categorical features include: season, mnth, hr, weathersit and day_cat. Yr, holiday and workingday take either 0 or 1 as value, thus are not included in the categorical features from which we'll create dummy variables."
      ],
      "metadata": {
        "id": "ZS4ZdEINfr2m"
      }
    },
    {
      "cell_type": "code",
      "source": [
        "# have a look at the data\n",
        "data.show(5)"
      ],
      "metadata": {
        "id": "4jeBdIx9fr2n",
        "outputId": "9cbb734d-9f17-474e-eaa8-6b2ded302fc9",
        "colab": {
          "base_uri": "https://localhost:8080/"
        }
      },
      "outputs": [
        {
          "output_type": "stream",
          "name": "stdout",
          "text": [
            "+------+---+----+---+-------+----------+----------+----+----+---------+---------+----+------+-------+\n",
            "|season| yr|mnth| hr|holiday|workingday|weathersit|temp| hum|windspeed|dayOfWeek|days|demand|day_cat|\n",
            "+------+---+----+---+-------+----------+----------+----+----+---------+---------+----+------+-------+\n",
            "|     1|  0|   1|  0|      0|         0|         1|0.24|0.81|      0.0|      Sat|   0|    16|      5|\n",
            "|     1|  0|   1|  1|      0|         0|         1|0.22| 0.8|      0.0|      Sat|   0|    40|      5|\n",
            "|     1|  0|   1|  2|      0|         0|         1|0.22| 0.8|      0.0|      Sat|   0|    32|      5|\n",
            "|     1|  0|   1|  3|      0|         0|         1|0.24|0.75|      0.0|      Sat|   0|    13|      5|\n",
            "|     1|  0|   1|  4|      0|         0|         1|0.24|0.75|      0.0|      Sat|   0|     1|      5|\n",
            "+------+---+----+---+-------+----------+----------+----+----+---------+---------+----+------+-------+\n",
            "only showing top 5 rows\n",
            "\n"
          ]
        }
      ],
      "execution_count": null
    },
    {
      "cell_type": "code",
      "source": [
        "from pyspark.ml.feature import StringIndexer, OneHotEncoder\n",
        "from pyspark.sql.functions import col\n",
        "\n",
        "cat_cols = ['season', 'mnth', 'hr', 'weathersit', 'day_cat']\n",
        "\n",
        "indexers = [\n",
        "    StringIndexer(inputCol=col, outputCol=\"{0}_indexed\".format(col))\n",
        "    for col in cat_cols\n",
        "]\n",
        "\n",
        "encoders = [\n",
        "    OneHotEncoder(\n",
        "        inputCol=indexer.getOutputCol(),\n",
        "        outputCol=\"{0}_encoded\".format(indexer.getOutputCol()))\n",
        "    for indexer in indexers\n",
        "]\n",
        "\n",
        "assembler = VectorAssembler(\n",
        "    inputCols=[encoder.getOutputCol() for encoder in encoders],\n",
        "    outputCol=\"features\"\n",
        ")\n",
        "\n",
        "\n",
        "pipeline = Pipeline(stages=indexers + encoders + [assembler])\n",
        "data_transformed = pipeline.fit(data).transform(data)\n",
        "data_transformed.show(5)"
      ],
      "metadata": {
        "id": "BYKi-Dybfr2o",
        "outputId": "c1988273-15d9-45e9-a37e-50af72410320",
        "colab": {
          "base_uri": "https://localhost:8080/"
        }
      },
      "outputs": [
        {
          "output_type": "stream",
          "name": "stdout",
          "text": [
            "+------+---+----+---+-------+----------+----------+----+----+---------+---------+----+------+-------+--------------+------------+----------+------------------+---------------+----------------------+--------------------+------------------+--------------------------+-----------------------+--------------------+\n",
            "|season| yr|mnth| hr|holiday|workingday|weathersit|temp| hum|windspeed|dayOfWeek|days|demand|day_cat|season_indexed|mnth_indexed|hr_indexed|weathersit_indexed|day_cat_indexed|season_indexed_encoded|mnth_indexed_encoded|hr_indexed_encoded|weathersit_indexed_encoded|day_cat_indexed_encoded|            features|\n",
            "+------+---+----+---+-------+----------+----------+----+----+---------+---------+----+------+-------+--------------+------------+----------+------------------+---------------+----------------------+--------------------+------------------+--------------------------+-----------------------+--------------------+\n",
            "|     1|  0|   1|  0|      0|         0|         1|0.24|0.81|      0.0|      Sat|   0|    16|      5|           2.0|        10.0|      17.0|               0.0|            0.0|         (3,[2],[1.0])|     (11,[10],[1.0])|   (23,[17],[1.0])|             (3,[0],[1.0])|          (6,[0],[1.0])|(46,[2,13,31,37,4...|\n",
            "|     1|  0|   1|  1|      0|         0|         1|0.22| 0.8|      0.0|      Sat|   0|    40|      5|           2.0|        10.0|      19.0|               0.0|            0.0|         (3,[2],[1.0])|     (11,[10],[1.0])|   (23,[19],[1.0])|             (3,[0],[1.0])|          (6,[0],[1.0])|(46,[2,13,33,37,4...|\n",
            "|     1|  0|   1|  2|      0|         0|         1|0.22| 0.8|      0.0|      Sat|   0|    32|      5|           2.0|        10.0|      21.0|               0.0|            0.0|         (3,[2],[1.0])|     (11,[10],[1.0])|   (23,[21],[1.0])|             (3,[0],[1.0])|          (6,[0],[1.0])|(46,[2,13,35,37,4...|\n",
            "|     1|  0|   1|  3|      0|         0|         1|0.24|0.75|      0.0|      Sat|   0|    13|      5|           2.0|        10.0|      22.0|               0.0|            0.0|         (3,[2],[1.0])|     (11,[10],[1.0])|   (23,[22],[1.0])|             (3,[0],[1.0])|          (6,[0],[1.0])|(46,[2,13,36,37,4...|\n",
            "|     1|  0|   1|  4|      0|         0|         1|0.24|0.75|      0.0|      Sat|   0|     1|      5|           2.0|        10.0|      23.0|               0.0|            0.0|         (3,[2],[1.0])|     (11,[10],[1.0])|        (23,[],[])|             (3,[0],[1.0])|          (6,[0],[1.0])|(46,[2,13,37,40],...|\n",
            "+------+---+----+---+-------+----------+----------+----+----+---------+---------+----+------+-------+--------------+------------+----------+------------------+---------------+----------------------+--------------------+------------------+--------------------------+-----------------------+--------------------+\n",
            "only showing top 5 rows\n",
            "\n"
          ]
        }
      ],
      "execution_count": null
    },
    {
      "cell_type": "code",
      "source": [
        "train, test = data_transformed.randomSplit([0.8, 0.2])\n",
        "print (\"We have %d training examples and %d test examples.\" % (train.count(), test.count()))"
      ],
      "metadata": {
        "id": "K_3W_sB7fr2o",
        "outputId": "e34793e2-6ff7-4ea2-e47d-65cc2f5893e4",
        "colab": {
          "base_uri": "https://localhost:8080/"
        }
      },
      "outputs": [
        {
          "output_type": "stream",
          "name": "stdout",
          "text": [
            "We have 13913 training examples and 3466 test examples.\n"
          ]
        }
      ],
      "execution_count": null
    },
    {
      "cell_type": "code",
      "source": [
        "train.cache()\n",
        "test.cache()"
      ],
      "metadata": {
        "id": "WcNh_9lNfr2p",
        "outputId": "6664a6a7-7c63-47b9-a27d-d803551e1500",
        "colab": {
          "base_uri": "https://localhost:8080/"
        }
      },
      "outputs": [
        {
          "output_type": "execute_result",
          "data": {
            "text/plain": [
              "DataFrame[season: int, yr: int, mnth: int, hr: int, holiday: int, workingday: int, weathersit: int, temp: double, hum: double, windspeed: double, dayOfWeek: string, days: int, demand: int, day_cat: int, season_indexed: double, mnth_indexed: double, hr_indexed: double, weathersit_indexed: double, day_cat_indexed: double, season_indexed_encoded: vector, mnth_indexed_encoded: vector, hr_indexed_encoded: vector, weathersit_indexed_encoded: vector, day_cat_indexed_encoded: vector, features: vector]"
            ]
          },
          "metadata": {},
          "execution_count": 36
        }
      ],
      "execution_count": null
    },
    {
      "cell_type": "code",
      "source": [
        "# initialize Linear Regression model with some hyperparameters\n",
        "lr = LinearRegression(maxIter=100, elasticNetParam=0.3, featuresCol=\"features\", labelCol=\"demand\")"
      ],
      "metadata": {
        "id": "LAcj0YG5fr2p"
      },
      "outputs": [],
      "execution_count": null
    },
    {
      "cell_type": "code",
      "source": [
        "# fit to training set\n",
        "lrm = lr.fit(train)"
      ],
      "metadata": {
        "id": "IrwVd6tUfr2p"
      },
      "outputs": [],
      "execution_count": null
    },
    {
      "cell_type": "code",
      "source": [
        "# print out MAE and R2 on train data\n",
        "trainingSummary = lrm.summary\n",
        "print(\"Mean Absolute Error (MAE) on train data = %f\" % trainingSummary.meanAbsoluteError)\n",
        "print(\"R Squared (R2) on train data = %f\" % trainingSummary.r2)"
      ],
      "metadata": {
        "id": "Qti0f5Mzfr2q",
        "outputId": "9b46b203-12db-40bb-bc59-ed5c6cee9395",
        "colab": {
          "base_uri": "https://localhost:8080/"
        }
      },
      "outputs": [
        {
          "output_type": "stream",
          "name": "stdout",
          "text": [
            "Mean Absolute Error (MAE) on train data = 81.778622\n",
            "R Squared (R2) on train data = 0.608610\n"
          ]
        }
      ],
      "execution_count": null
    },
    {
      "cell_type": "code",
      "source": [
        "# make predictions on test data\n",
        "lr_preds = lrm.transform(test)\n",
        "\n",
        "lr_preds.select(\"prediction\", \"demand\", \"features\").show(5)\n",
        "\n",
        "from pyspark.ml.evaluation import RegressionEvaluator\n",
        "\n",
        "lr_evaluator = RegressionEvaluator(predictionCol=\"prediction\",\\\n",
        "                                   labelCol=\"demand\")\n",
        "\n",
        "# print out MAE and R2 on test data\n",
        "print(\"Mean Absolute Error (MAE) on test data = %g\" % lr_evaluator.evaluate(lr_preds, {lr_evaluator.metricName: \"mae\"}))\n",
        "print(\"R Squared (R2) on test data = %g\" % lr_evaluator.evaluate(lr_preds, {lr_evaluator.metricName: \"r2\"}))"
      ],
      "metadata": {
        "id": "EZGvfvrOfr2q",
        "outputId": "44af0d5b-81a0-4d3a-fe01-933b784a76b6",
        "colab": {
          "base_uri": "https://localhost:8080/"
        }
      },
      "outputs": [
        {
          "output_type": "stream",
          "name": "stdout",
          "text": [
            "+-------------------+------+--------------------+\n",
            "|         prediction|demand|            features|\n",
            "+-------------------+------+--------------------+\n",
            "|-31.689868632433694|    13|(46,[2,13,31,37,4...|\n",
            "|  -47.2560733904782|    25|(46,[2,13,31,37,4...|\n",
            "|-31.689868632433694|    28|(46,[2,13,31,37,4...|\n",
            "|-31.689868632433694|    16|(46,[2,13,31,37,4...|\n",
            "|  -47.2560733904782|    39|(46,[2,13,31,37,4...|\n",
            "+-------------------+------+--------------------+\n",
            "only showing top 5 rows\n",
            "\n",
            "Mean Absolute Error (MAE) on test data = 86.6781\n",
            "R Squared (R2) on test data = 0.598208\n"
          ]
        }
      ],
      "execution_count": null
    }
  ],
  "metadata": {
    "name": "bike_lab",
    "notebookId": 3546636032352226,
    "colab": {
      "provenance": []
    },
    "language_info": {
      "name": "python"
    },
    "kernelspec": {
      "name": "python3",
      "display_name": "Python 3"
    },
    "gpuClass": "standard"
  },
  "nbformat": 4,
  "nbformat_minor": 0
}